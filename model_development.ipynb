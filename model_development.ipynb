{
 "cells": [
  {
   "cell_type": "code",
   "execution_count": 1,
   "metadata": {
    "colab": {
     "base_uri": "https://localhost:8080/"
    },
    "id": "JotgsrnDy2y1",
    "outputId": "bef86008-ceb6-42e1-889e-4c33ff2f44c0"
   },
   "outputs": [
    {
     "name": "stdout",
     "output_type": "stream",
     "text": [
      "Mounted at /content/drive\n"
     ]
    }
   ],
   "source": [
    "from google.colab import drive\n",
    "drive.mount('/content/drive')"
   ]
  },
  {
   "cell_type": "code",
   "execution_count": 31,
   "metadata": {
    "id": "1UMwXQ5OzC2l"
   },
   "outputs": [],
   "source": [
    "from os.path import join as path\n",
    "from torchvision.transforms import (\n",
    "    Compose, Resize, Normalize, ToPILImage,\n",
    "    ToTensor, RandomHorizontalFlip)\n",
    "from torchvision.datasets import ImageFolder\n",
    "from torch.utils.data import DataLoader\n",
    "\n",
    "\n",
    "tform = {'train': Compose([\n",
    "                           Resize((128, 128)),\n",
    "                           ToTensor(),\n",
    "                           RandomHorizontalFlip(),\n",
    "                           Normalize((0.485, 0.456, 0.406),\n",
    "                                     (0.229, 0.224, 0.225))]),\n",
    "         'valid': Compose([\n",
    "                           Resize((128, 128)),\n",
    "                           ToTensor(),\n",
    "                           Normalize((0.485, 0.456, 0.406),\n",
    "                                     (0.229, 0.224, 0.225))]),\n",
    "         'test': Compose([\n",
    "                           Resize((128, 128)),\n",
    "                           ToTensor(),\n",
    "                           Normalize((0.485, 0.456, 0.406),\n",
    "                                     (0.229, 0.224, 0.225))])}\n",
    "\n",
    "data_dir = '/content/drive/MyDrive/Colab Notebooks/dogImages'\n",
    "dataset = {x: ImageFolder(path(data_dir, x), tform[x]) for x in tform.keys()}\n",
    "loaders = {x: DataLoader(dataset=dataset[x],\n",
    "                         batch_size=64,\n",
    "                         shuffle=(x=='train'),\n",
    "                         num_workers=4,\n",
    "                         pin_memory=True,\n",
    "                         drop_last=True) for x in tform.keys()}"
   ]
  },
  {
   "cell_type": "code",
   "execution_count": null,
   "metadata": {
    "colab": {
     "base_uri": "https://localhost:8080/"
    },
    "id": "mxcgTQcqCj3U",
    "outputId": "80d229ba-c790-4623-d233-a3af76097e56"
   },
   "outputs": [],
   "source": [
    "from torch.nn import Module, Conv2d, MaxPool2d, Linear\n",
    "from torch.nn.functional import relu, softmax, dropout\n",
    "from torch import cuda, device\n",
    "\n",
    "#TODO: Model\n",
    "class Model(Module):\n",
    "    def __init__(self):\n",
    "        super(Model, self).__init__()\n",
    "    \n",
    "    def forward(self, x):\n",
    "        return x\n",
    "\n",
    "model = Model()\n",
    "print(model)\n",
    "\n",
    "use_cuda = cuda.is_available()\n",
    "if use_cuda:\n",
    "    model = model.cuda()"
   ]
  },
  {
   "cell_type": "code",
   "execution_count": 34,
   "metadata": {
    "id": "pvbusuNgJ3nm"
   },
   "outputs": [],
   "source": [
    "from torch.nn import CrossEntropyLoss\n",
    "from torch.optim import Adam\n",
    "\n",
    "criterion = CrossEntropyLoss()\n",
    "optimizer = Adam(model.parameters(), lr=1e-3)"
   ]
  },
  {
   "cell_type": "code",
   "execution_count": null,
   "metadata": {
    "colab": {
     "base_uri": "https://localhost:8080/",
     "height": 675
    },
    "id": "_lEXd6_OKppQ",
    "outputId": "7f8a5989-08a0-4f2a-eeed-0ebdf1fe33ed"
   },
   "outputs": [],
   "source": [
    "def train(model, loaders, criterion, optimizer, epochs):\n",
    "    for epoch in range(epochs):\n",
    "        for phase in ['train', 'valid']:\n",
    "            if phase == 'train':\n",
    "                model.train()\n",
    "            elif phase == 'valid':\n",
    "                model.eval()\n",
    "\n",
    "            for data, cls in loaders[phase]:\n",
    "                if use_cuda:\n",
    "                    data = data.cuda()\n",
    "                    cls = cls.cuda()\n",
    "\n",
    "                if phase == 'train':\n",
    "                    oprimizer.zero_grad()\n",
    "                \n",
    "                pred = model(data)\n",
    "                loss = criterion(pred, cls)\n",
    "\n",
    "                if phase == 'train':\n",
    "                    loss.backward()\n",
    "                    optimizer.step()\n",
    "\n",
    "def test(model, loaders, criterion):\n",
    "    model.eval()\n",
    "    for data, cls in loaders['test']:\n",
    "        if use_cuda:\n",
    "            data = data.cuda()\n",
    "            cls = cls.cuda()\n",
    "\n",
    "        pred = model(data)\n",
    "        loss = criterion(pred, cls)"
   ]
  }
 ],
 "metadata": {
  "colab": {
   "collapsed_sections": [],
   "name": "Untitled1.ipynb",
   "provenance": []
  },
  "kernelspec": {
   "display_name": "Python 3",
   "language": "python",
   "name": "python3"
  },
  "language_info": {
   "codemirror_mode": {
    "name": "ipython",
    "version": 3
   },
   "file_extension": ".py",
   "mimetype": "text/x-python",
   "name": "python",
   "nbconvert_exporter": "python",
   "pygments_lexer": "ipython3",
   "version": "3.9.0"
  }
 },
 "nbformat": 4,
 "nbformat_minor": 1
}
