{
 "cells": [
  {
   "cell_type": "code",
   "execution_count": 2,
   "metadata": {
    "id": "JotgsrnDy2y1"
   },
   "outputs": [],
   "source": [
    "from google.colab import drive\n",
    "drive.mount('/content/drive')"
   ]
  },
  {
   "cell_type": "code",
   "execution_count": 3,
   "metadata": {
    "id": "1UMwXQ5OzC2l"
   },
   "outputs": [],
   "source": [
    "from os.path import join as path\n",
    "from torchvision.transforms import (\n",
    "    Compose, Resize, Normalize, Grayscale, \n",
    "    ToPILImage, ToTensor, RandomHorizontalFlip)\n",
    "from torchvision.datasets import ImageFolder\n",
    "from torch.utils.data import DataLoader\n",
    "\n",
    "\n",
    "tform = {'train': Compose([\n",
    "                           Resize((128, 128)),\n",
    "                           ToTensor(),\n",
    "                           RandomHorizontalFlip(),\n",
    "                           Normalize((0.485, 0.456, 0.406),\n",
    "                                     (0.229, 0.224, 0.225))]),\n",
    "         'valid': Compose([\n",
    "                           Resize((128, 128)),\n",
    "                           ToTensor(),\n",
    "                           Normalize((0.485, 0.456, 0.406),\n",
    "                                     (0.229, 0.224, 0.225))]),\n",
    "         'test': Compose([\n",
    "                           Resize((128, 128)),\n",
    "                           ToTensor(),\n",
    "                           Normalize((0.485, 0.456, 0.406),\n",
    "                                     (0.229, 0.224, 0.225))])}\n",
    "\n",
    "data_dir = '/content/drive/MyDrive/Colab Notebooks/dogImages'\n",
    "dataset = {x: ImageFolder(path(data_dir, x), tform[x]) for x in tform.keys()}\n",
    "loaders = {x: DataLoader(dataset=dataset[x],\n",
    "                         batch_size=32,\n",
    "                         shuffle=(x=='train'),\n",
    "                        #  num_workers=4,\n",
    "                         pin_memory=True,\n",
    "                         drop_last=True) for x in tform.keys()}"
   ]
  },
  {
   "cell_type": "code",
   "execution_count": 4,
   "metadata": {
    "id": "mxcgTQcqCj3U"
   },
   "outputs": [],
   "source": [
    "from torch.nn import Module, Conv2d, MaxPool2d, Linear\n",
    "from torch.nn.functional import relu, softmax, dropout\n",
    "from torch import cuda, device\n",
    "\n",
    "class Model(Module):\n",
    "    def __init__(self):\n",
    "        super(Model, self).__init__()\n",
    "\n",
    "        self.conv1 = Conv2d(in_channels=3, out_channels=64, kernel_size=(3,3))\n",
    "        self.conv2 = Conv2d(in_channels=64, out_channels=128, kernel_size=(3,3))\n",
    "        self.pool1 = MaxPool2d(kernel_size=(2,2))\n",
    "\n",
    "        self.conv3 = Conv2d(in_channels=128, out_channels=256, kernel_size=(3,3))\n",
    "        self.conv4 = Conv2d(in_channels=256, out_channels=512, kernel_size=(3,3))\n",
    "        self.pool2 = MaxPool2d(kernel_size=(2,2))\n",
    "\n",
    "        self.conv5 = Conv2d(in_channels=512, out_channels=1024, kernel_size=(3,3))\n",
    "        self.conv6 = Conv2d(in_channels=1024, out_channels=2048, kernel_size=(3,3))\n",
    "        self.pool3 = MaxPool2d(kernel_size=(2,2))\n",
    "\n",
    "        self.fc1 = Linear(12*12*2048, 512)\n",
    "        self.fc2 = Linear(512, 133)\n",
    "\n",
    "\n",
    "    def forward(self, x, show_shape=False):\n",
    "        if show_shape: print(x.squeeze(0).shape)\n",
    "        x = relu(self.conv1(x))\n",
    "        if show_shape: print(x.squeeze(0).shape)\n",
    "        x = relu(self.conv2(x))\n",
    "        if show_shape: print(x.squeeze(0).shape)\n",
    "        x = self.pool1(x)\n",
    "        if show_shape: print(x.squeeze(0).shape)\n",
    "        x = relu(self.conv3(x)) \n",
    "        if show_shape: print(x.squeeze(0).shape)\n",
    "        x = relu(self.conv4(x))\n",
    "        if show_shape: print(x.squeeze(0).shape)\n",
    "        x = self.pool2(x)\n",
    "        if show_shape: print(x.squeeze(0).shape)\n",
    "        x = relu(self.conv5(x)) \n",
    "        if show_shape: print(x.squeeze(0).shape)\n",
    "        x = relu(self.conv6(x))\n",
    "        if show_shape: print(x.squeeze(0).shape)\n",
    "        x = self.pool3(x)\n",
    "        if show_shape: print(x.squeeze(0).shape)\n",
    "\n",
    "        x = x.view(x.size(0), -1)\n",
    "        if show_shape: print(x.squeeze(0).shape)\n",
    "        x = self.fc1(x)\n",
    "        if show_shape: print(x.squeeze(0).shape)\n",
    "        x = self.fc2(x)\n",
    "        if show_shape: print(x.squeeze(0).shape)\n",
    "\n",
    "        return x\n",
    "\n",
    "model = Model()\n",
    "\n",
    "use_cuda = cuda.is_available()\n",
    "if use_cuda:\n",
    "    model = model.cuda()"
   ]
  },
  {
   "cell_type": "code",
   "execution_count": 5,
   "metadata": {
    "colab": {
     "base_uri": "https://localhost:8080/"
    },
    "id": "lluyWPnsbUR4",
    "outputId": "2aaab4b8-c744-44a8-99c2-e803fe0a083d"
   },
   "outputs": [
    {
     "name": "stdout",
     "output_type": "stream",
     "text": [
      "torch.Size([3, 128, 128])\n",
      "torch.Size([64, 126, 126])\n",
      "torch.Size([128, 124, 124])\n",
      "torch.Size([128, 62, 62])\n",
      "torch.Size([256, 60, 60])\n",
      "torch.Size([512, 58, 58])\n",
      "torch.Size([512, 29, 29])\n",
      "torch.Size([1024, 27, 27])\n",
      "torch.Size([2048, 25, 25])\n",
      "torch.Size([2048, 12, 12])\n",
      "torch.Size([294912])\n",
      "torch.Size([512])\n",
      "torch.Size([133])\n"
     ]
    }
   ],
   "source": [
    "test_shape = dataset['train'][0][0].unsqueeze(0)\n",
    "if use_cuda:\n",
    "    test_shape = test_shape.cuda()\n",
    "model(test_shape, show_shape=True);"
   ]
  },
  {
   "cell_type": "code",
   "execution_count": 6,
   "metadata": {
    "id": "pvbusuNgJ3nm"
   },
   "outputs": [],
   "source": [
    "from torch.nn import CrossEntropyLoss\n",
    "from torch.optim import Adam\n",
    "\n",
    "criterion = CrossEntropyLoss()\n",
    "optimizer = Adam(model.parameters(), lr=1e-4)"
   ]
  },
  {
   "cell_type": "code",
   "execution_count": null,
   "metadata": {
    "id": "_lEXd6_OKppQ"
   },
   "outputs": [],
   "source": [
    "from PIL import ImageFile\n",
    "ImageFile.LOAD_TRUNCATED_IMAGES = True\n",
    "\n",
    "from torch import save\n",
    "\n",
    "epochs = 10\n",
    "\n",
    "def train(model, loaders, criterion, optimizer, epochs):\n",
    "    min_loss = 2**64\n",
    "    for epoch in range(epochs):\n",
    "        print(f'epoch: {epoch+1}')\n",
    "\n",
    "        for phase in ['train', 'valid']:\n",
    "            if phase == 'train':\n",
    "                model.train()\n",
    "            elif phase == 'valid':\n",
    "                model.eval()\n",
    "\n",
    "            epoch_loss = 0.0\n",
    "            for data, cls in loaders[phase]:\n",
    "                if use_cuda:\n",
    "                    data = data.cuda()\n",
    "                    cls = cls.cuda()\n",
    "                \n",
    "                if phase == 'train':\n",
    "                    optimizer.zero_grad()\n",
    "\n",
    "                loss = criterion(model(data), cls)\n",
    "                \n",
    "                epoch_loss += loss.item() * data.size(0)\n",
    "                print(loss.item())\n",
    "\n",
    "                if phase == 'train':\n",
    "                    loss.backward()\n",
    "                    optimizer.step()\n",
    "\n",
    "            epoch_loss /= len(loaders[phase].dataset)\n",
    "\n",
    "            print(f'epoch {epoch+1}: {phase} phase is completed. mean loss: {epoch_loss}')\n",
    "\n",
    "        if min_loss > epoch_loss:\n",
    "            save(model.state_dict(), 'model.pt')\n",
    "            min_loss = epoch_loss\n",
    "            print(f'minimum loss: {min_loss}. Model saved')\n",
    "\n",
    "train(model, loaders, criterion, optimizer, epochs)"
   ]
  },
  {
   "cell_type": "code",
   "execution_count": 8,
   "metadata": {
    "id": "DxyvMHvKLw-H"
   },
   "outputs": [],
   "source": [
    "def test(model, loaders, criterion):\n",
    "    model.eval()\n",
    "    for data, cls in loaders['test']:\n",
    "        if use_cuda:\n",
    "            data = data.cuda()\n",
    "            cls = cls.cuda()\n",
    "\n",
    "        pred = model(data)\n",
    "        loss = criterion(pred, cls)"
   ]
  }
 ],
 "metadata": {
  "accelerator": "GPU",
  "colab": {
   "collapsed_sections": [],
   "name": "Untitled1.ipynb",
   "provenance": []
  },
  "kernelspec": {
   "display_name": "Python 3",
   "language": "python",
   "name": "python3"
  },
  "language_info": {
   "codemirror_mode": {
    "name": "ipython",
    "version": 3
   },
   "file_extension": ".py",
   "mimetype": "text/x-python",
   "name": "python",
   "nbconvert_exporter": "python",
   "pygments_lexer": "ipython3",
   "version": "3.9.0"
  }
 },
 "nbformat": 4,
 "nbformat_minor": 1
}
